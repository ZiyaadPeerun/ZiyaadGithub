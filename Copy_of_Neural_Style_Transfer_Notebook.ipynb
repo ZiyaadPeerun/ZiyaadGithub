{
  "nbformat": 4,
  "nbformat_minor": 0,
  "metadata": {
    "colab": {
      "name": "Copy of Neural-Style-Transfer-Notebook.ipynb",
      "version": "0.3.2",
      "provenance": [],
      "collapsed_sections": [],
      "toc_visible": true,
      "include_colab_link": true
    },
    "kernelspec": {
      "name": "python2",
      "display_name": "Python 2"
    },
    "accelerator": "GPU"
  },
  "cells": [
    {
      "cell_type": "markdown",
      "metadata": {
        "id": "view-in-github",
        "colab_type": "text"
      },
      "source": [
        "<a href=\"https://colab.research.google.com/github/ZiyaadPeerun/ZiyaadGithub/blob/master/Copy_of_Neural_Style_Transfer_Notebook.ipynb\" target=\"_parent\"><img src=\"https://colab.research.google.com/assets/colab-badge.svg\" alt=\"Open In Colab\"/></a>"
      ]
    },
    {
      "cell_type": "markdown",
      "metadata": {
        "id": "nFnvXz6a5dzF",
        "colab_type": "text"
      },
      "source": [
        "## Show System Specifications Ziyaad is testing colab\n"
      ]
    },
    {
      "cell_type": "code",
      "metadata": {
        "id": "pV1aAdumXrjN",
        "colab_type": "code",
        "outputId": "7c78d379-8de1-4930-f6de-c9c4f59b68dc",
        "colab": {
          "base_uri": "https://localhost:8080/",
          "height": 693
        }
      },
      "source": [
        "from tensorflow.python.client import device_lib\n",
        "\n",
        "print(\"Show System RAM Memory:\\n\\n\")\n",
        "!cat /proc/meminfo | egrep \"MemTotal*\"\n",
        "\n",
        "\n",
        "print(\"\\n\\nShow Devices:\\n\\n\"+str(device_lib.list_local_devices()))"
      ],
      "execution_count": 1,
      "outputs": [
        {
          "output_type": "stream",
          "text": [
            "Show System RAM Memory:\n",
            "\n",
            "\n",
            "MemTotal:       13335184 kB\n",
            "\n",
            "\n",
            "Show Devices:\n",
            "\n",
            "[name: \"/device:CPU:0\"\n",
            "device_type: \"CPU\"\n",
            "memory_limit: 268435456\n",
            "locality {\n",
            "}\n",
            "incarnation: 18100699604057994907\n",
            ", name: \"/device:XLA_CPU:0\"\n",
            "device_type: \"XLA_CPU\"\n",
            "memory_limit: 17179869184\n",
            "locality {\n",
            "}\n",
            "incarnation: 6370193519596964792\n",
            "physical_device_desc: \"device: XLA_CPU device\"\n",
            ", name: \"/device:XLA_GPU:0\"\n",
            "device_type: \"XLA_GPU\"\n",
            "memory_limit: 17179869184\n",
            "locality {\n",
            "}\n",
            "incarnation: 13021749695615978003\n",
            "physical_device_desc: \"device: XLA_GPU device\"\n",
            ", name: \"/device:GPU:0\"\n",
            "device_type: \"GPU\"\n",
            "memory_limit: 11330115994\n",
            "locality {\n",
            "  bus_id: 1\n",
            "  links {\n",
            "  }\n",
            "}\n",
            "incarnation: 3296364214338807065\n",
            "physical_device_desc: \"device: 0, name: Tesla K80, pci bus id: 0000:00:04.0, compute capability: 3.7\"\n",
            "]\n"
          ],
          "name": "stdout"
        }
      ]
    },
    {
      "cell_type": "markdown",
      "metadata": {
        "id": "LMqjDQt9aj04",
        "colab_type": "text"
      },
      "source": [
        "# Download Dependencies to Google Colab Environment\n",
        "\n",
        "This may take several minutes but needs to only be run once per session. Every Google Colab session has temporary storage for assets such as images and other scripts. When the session is closed these objects will be removed but the notebook will remain intact.\n",
        "\n",
        "1.   neural_style.py\n",
        "2.   ImageNet\n",
        "\n",
        "\n",
        "*Run the cell below to download necessary dependencies. After this is complete you can navigate to the FILES tab on the left and select refresh - you should see the files listed.*"
      ]
    },
    {
      "cell_type": "code",
      "metadata": {
        "id": "jp8Xj6yhaN90",
        "colab_type": "code",
        "outputId": "aac13071-3230-4e52-f5a8-a86c86acc627",
        "colab": {
          "base_uri": "https://localhost:8080/",
          "height": 453
        }
      },
      "source": [
        "#Download neural_style.py\n",
        "#This code originates from https://github.com/cysmith/neural-style-tf\n",
        "!wget --output-document=neural_style.py 'https://storage.googleapis.com/marketing-files/colab-notebooks/style-transfer/neural_style.py'\n",
        " \n",
        "!cat ./wget-log  \n",
        "  \n",
        "#Download ImageNet VGG Very Deep\n",
        "#VGG-VD models from the Very Deep Convolutional Networks for Large-Scale Visual Recognition project.\n",
        "!wget --output-document=imagenet-vgg-verydeep-19.mat 'https://storage.googleapis.com/marketing-files/colab-notebooks/style-transfer/imagenet-vgg-verydeep-19.mat'\n",
        " \n",
        "!cat ./wget-log.1"
      ],
      "execution_count": 2,
      "outputs": [
        {
          "output_type": "stream",
          "text": [
            "--2019-08-28 15:54:45--  https://storage.googleapis.com/marketing-files/colab-notebooks/style-transfer/neural_style.py\n",
            "Resolving storage.googleapis.com (storage.googleapis.com)... 74.125.141.128, 2607:f8b0:400c:c06::80\n",
            "Connecting to storage.googleapis.com (storage.googleapis.com)|74.125.141.128|:443... connected.\n",
            "HTTP request sent, awaiting response... 200 OK\n",
            "Length: 30650 (30K) [text/x-python-script]\n",
            "Saving to: ‘neural_style.py’\n",
            "\n",
            "\rneural_style.py       0%[                    ]       0  --.-KB/s               \rneural_style.py     100%[===================>]  29.93K  --.-KB/s    in 0s      \n",
            "\n",
            "2019-08-28 15:54:45 (78.5 MB/s) - ‘neural_style.py’ saved [30650/30650]\n",
            "\n",
            "cat: ./wget-log: No such file or directory\n",
            "--2019-08-28 15:54:50--  https://storage.googleapis.com/marketing-files/colab-notebooks/style-transfer/imagenet-vgg-verydeep-19.mat\n",
            "Resolving storage.googleapis.com (storage.googleapis.com)... 74.125.141.128, 2607:f8b0:400c:c06::80\n",
            "Connecting to storage.googleapis.com (storage.googleapis.com)|74.125.141.128|:443... connected.\n",
            "HTTP request sent, awaiting response... 200 OK\n",
            "Length: 534904783 (510M) [application/octet-stream]\n",
            "Saving to: ‘imagenet-vgg-verydeep-19.mat’\n",
            "\n",
            "imagenet-vgg-veryde 100%[===================>] 510.12M   110MB/s    in 4.9s    \n",
            "\n",
            "2019-08-28 15:54:55 (104 MB/s) - ‘imagenet-vgg-verydeep-19.mat’ saved [534904783/534904783]\n",
            "\n",
            "cat: ./wget-log.1: No such file or directory\n"
          ],
          "name": "stdout"
        }
      ]
    },
    {
      "cell_type": "markdown",
      "metadata": {
        "id": "AEdBgjdA8vBY",
        "colab_type": "text"
      },
      "source": [
        "# Download Style and Content Images\n",
        "\n",
        "\n",
        "**download_image_from_URL()**\n",
        "This function will take a URL to an image and download it so we can use it to perform a style transfer on.\n",
        "\n",
        "**Image()** \n",
        "This function will display the image inline in the notebook and allow you to verify the image has been downloaded and is available.\n",
        "\n",
        "*Swap out this URL with a URL of your choosing tow download specific images.*"
      ]
    },
    {
      "cell_type": "code",
      "metadata": {
        "id": "-yjdltwlEN_-",
        "colab_type": "code",
        "outputId": "c3d609cf-298d-4671-a665-b3e8d934adfb",
        "colab": {
          "base_uri": "https://localhost:8080/",
          "height": 35
        }
      },
      "source": [
        "import re\n",
        "from IPython.display import Image\n",
        "import urllib\n",
        "\n",
        "def download_image_from_URL(imageURL):\n",
        "  imageName = re.search('[a-z0-9\\-]+\\.(jpe?g|png|gif|bmp)', imageURL, re.IGNORECASE)\n",
        "  imageName = imageName.group(0)\n",
        "  urllib.urlretrieve(imageURL, imageName)\n",
        "  imagePath = \"./\" + imageName\n",
        "  return imagePath\n",
        "   \n",
        "#Download Image from URL and Store Path in Variable\n",
        "\n",
        "#Content image model.jpg\n",
        "imageDownload1 = download_image_from_URL(\"https://storage.googleapis.com/marketing-files/yt-back.png\")\n",
        "\n",
        "imageDownload2 = download_image_from_URL(\"https://miro.medium.com/max/2560/1*gBQxShAkxBp_YPb14CN0Nw.jpeg\")\n",
        "#Style image polygon-2.jpg\n",
        "imageDownload3 = download_image_from_URL(\"https://i.stack.imgur.com/ayYiJ.jpg\")\n",
        "\n",
        "#Display Local Image\n",
        "Image(imageDownload2)              "
      ],
      "execution_count": 6,
      "outputs": [
        {
          "output_type": "execute_result",
          "data": {
            "image/jpeg": "[encoded data removed]",
            "text/plain": [
              "<IPython.core.display.Image object>"
            ]
          },
          "metadata": {
            "tags": []
          },
          "execution_count": 6
        }
      ]
    },
    {
      "cell_type": "markdown",
      "metadata": {
        "id": "jjzd_wb9abfU",
        "colab_type": "text"
      },
      "source": [
        "# Stylize an Image\n",
        "## Single style and single content image"
      ]
    },
    {
      "cell_type": "code",
      "metadata": {
        "id": "8TJIojDeEOAR",
        "colab_type": "code",
        "outputId": "eaefee78-55ec-48d8-e210-47036babf2ed",
        "colab": {
          "base_uri": "https://localhost:8080/",
          "height": 1000
        }
      },
      "source": [
        "from IPython.display import Image\n",
        "\n",
        "\n",
        "! python neural_style.py --content_img_dir ./ \\\n",
        "                       --content_img yt-back.png \\\n",
        "                       --style_imgs_dir ./ \\\n",
        "                       --style_imgs ayYiJ.jpg \\\n",
        "                       --style_imgs_weights 1  \\\n",
        "                       --max_iterations 100 \\\n",
        "                       --max_size 2600 \\\n",
        "                       --img_name output \\\n",
        "                       --content_weight 1 \\\n",
        "                       --original_colors \\\n",
        "                       --device /gpu:0 \\\n",
        "                       --img_output_dir ./ \\\n",
        "                       --verbose;\n",
        "                    \n",
        "# Print Final Image\n",
        "Image('./output/output.png')"
      ],
      "execution_count": 7,
      "outputs": [
        {
          "output_type": "stream",
          "text": [
            "\n",
            "---- RENDERING SINGLE IMAGE ----\n",
            "\n",
            "WARNING: Logging before flag parsing goes to stderr.\n",
            "W0828 16:06:50.708368 140704609544064 deprecation_wrapper.py:119] From neural_style.py:550: The name tf.Session is deprecated. Please use tf.compat.v1.Session instead.\n",
            "\n",
            "2019-08-28 16:06:50.745942: I tensorflow/stream_executor/platform/default/dso_loader.cc:42] Successfully opened dynamic library libcuda.so.1\n",
            "2019-08-28 16:06:50.774311: I tensorflow/stream_executor/cuda/cuda_gpu_executor.cc:1005] successful NUMA node read from SysFS had negative value (-1), but there must be at least one NUMA node, so returning NUMA node zero\n",
            "2019-08-28 16:06:50.775082: I tensorflow/core/common_runtime/gpu/gpu_device.cc:1640] Found device 0 with properties: \n",
            "name: Tesla K80 major: 3 minor: 7 memoryClockRate(GHz): 0.8235\n",
            "pciBusID: 0000:00:04.0\n",
            "2019-08-28 16:06:50.783628: I tensorflow/stream_executor/platform/default/dso_loader.cc:42] Successfully opened dynamic library libcudart.so.10.0\n",
            "2019-08-28 16:06:50.987408: I tensorflow/stream_executor/platform/default/dso_loader.cc:42] Successfully opened dynamic library libcublas.so.10.0\n",
            "2019-08-28 16:06:51.071506: I tensorflow/stream_executor/platform/default/dso_loader.cc:42] Successfully opened dynamic library libcufft.so.10.0\n",
            "2019-08-28 16:06:51.112715: I tensorflow/stream_executor/platform/default/dso_loader.cc:42] Successfully opened dynamic library libcurand.so.10.0\n",
            "2019-08-28 16:06:51.283245: I tensorflow/stream_executor/platform/default/dso_loader.cc:42] Successfully opened dynamic library libcusolver.so.10.0\n",
            "2019-08-28 16:06:51.413463: I tensorflow/stream_executor/platform/default/dso_loader.cc:42] Successfully opened dynamic library libcusparse.so.10.0\n",
            "2019-08-28 16:06:51.794731: I tensorflow/stream_executor/platform/default/dso_loader.cc:42] Successfully opened dynamic library libcudnn.so.7\n",
            "2019-08-28 16:06:51.794975: I tensorflow/stream_executor/cuda/cuda_gpu_executor.cc:1005] successful NUMA node read from SysFS had negative value (-1), but there must be at least one NUMA node, so returning NUMA node zero\n",
            "2019-08-28 16:06:51.795856: I tensorflow/stream_executor/cuda/cuda_gpu_executor.cc:1005] successful NUMA node read from SysFS had negative value (-1), but there must be at least one NUMA node, so returning NUMA node zero\n",
            "2019-08-28 16:06:51.796548: I tensorflow/core/common_runtime/gpu/gpu_device.cc:1763] Adding visible gpu devices: 0\n",
            "2019-08-28 16:06:51.814350: I tensorflow/core/platform/profile_utils/cpu_utils.cc:94] CPU Frequency: 2300000000 Hz\n",
            "2019-08-28 16:06:51.814936: I tensorflow/compiler/xla/service/service.cc:168] XLA service 0x563c07424f40 executing computations on platform Host. Devices:\n",
            "2019-08-28 16:06:51.814975: I tensorflow/compiler/xla/service/service.cc:175]   StreamExecutor device (0): <undefined>, <undefined>\n",
            "2019-08-28 16:06:51.886012: I tensorflow/stream_executor/cuda/cuda_gpu_executor.cc:1005] successful NUMA node read from SysFS had negative value (-1), but there must be at least one NUMA node, so returning NUMA node zero\n",
            "2019-08-28 16:06:51.886955: I tensorflow/compiler/xla/service/service.cc:168] XLA service 0x563c07425100 executing computations on platform CUDA. Devices:\n",
            "2019-08-28 16:06:51.887014: I tensorflow/compiler/xla/service/service.cc:175]   StreamExecutor device (0): Tesla K80, Compute Capability 3.7\n",
            "2019-08-28 16:06:51.888317: I tensorflow/stream_executor/cuda/cuda_gpu_executor.cc:1005] successful NUMA node read from SysFS had negative value (-1), but there must be at least one NUMA node, so returning NUMA node zero\n",
            "2019-08-28 16:06:51.889022: I tensorflow/core/common_runtime/gpu/gpu_device.cc:1640] Found device 0 with properties: \n",
            "name: Tesla K80 major: 3 minor: 7 memoryClockRate(GHz): 0.8235\n",
            "pciBusID: 0000:00:04.0\n",
            "2019-08-28 16:06:51.889089: I tensorflow/stream_executor/platform/default/dso_loader.cc:42] Successfully opened dynamic library libcudart.so.10.0\n",
            "2019-08-28 16:06:51.889123: I tensorflow/stream_executor/platform/default/dso_loader.cc:42] Successfully opened dynamic library libcublas.so.10.0\n",
            "2019-08-28 16:06:51.889145: I tensorflow/stream_executor/platform/default/dso_loader.cc:42] Successfully opened dynamic library libcufft.so.10.0\n",
            "2019-08-28 16:06:51.889169: I tensorflow/stream_executor/platform/default/dso_loader.cc:42] Successfully opened dynamic library libcurand.so.10.0\n",
            "2019-08-28 16:06:51.889191: I tensorflow/stream_executor/platform/default/dso_loader.cc:42] Successfully opened dynamic library libcusolver.so.10.0\n",
            "2019-08-28 16:06:51.889211: I tensorflow/stream_executor/platform/default/dso_loader.cc:42] Successfully opened dynamic library libcusparse.so.10.0\n",
            "2019-08-28 16:06:51.889233: I tensorflow/stream_executor/platform/default/dso_loader.cc:42] Successfully opened dynamic library libcudnn.so.7\n",
            "2019-08-28 16:06:51.889343: I tensorflow/stream_executor/cuda/cuda_gpu_executor.cc:1005] successful NUMA node read from SysFS had negative value (-1), but there must be at least one NUMA node, so returning NUMA node zero\n",
            "2019-08-28 16:06:51.890063: I tensorflow/stream_executor/cuda/cuda_gpu_executor.cc:1005] successful NUMA node read from SysFS had negative value (-1), but there must be at least one NUMA node, so returning NUMA node zero\n",
            "2019-08-28 16:06:51.890721: I tensorflow/core/common_runtime/gpu/gpu_device.cc:1763] Adding visible gpu devices: 0\n",
            "2019-08-28 16:06:51.893001: I tensorflow/stream_executor/platform/default/dso_loader.cc:42] Successfully opened dynamic library libcudart.so.10.0\n",
            "2019-08-28 16:06:51.894675: I tensorflow/core/common_runtime/gpu/gpu_device.cc:1181] Device interconnect StreamExecutor with strength 1 edge matrix:\n",
            "2019-08-28 16:06:51.894711: I tensorflow/core/common_runtime/gpu/gpu_device.cc:1187]      0 \n",
            "2019-08-28 16:06:51.894725: I tensorflow/core/common_runtime/gpu/gpu_device.cc:1200] 0:   N \n",
            "2019-08-28 16:06:51.899654: I tensorflow/stream_executor/cuda/cuda_gpu_executor.cc:1005] successful NUMA node read from SysFS had negative value (-1), but there must be at least one NUMA node, so returning NUMA node zero\n",
            "2019-08-28 16:06:51.900478: I tensorflow/stream_executor/cuda/cuda_gpu_executor.cc:1005] successful NUMA node read from SysFS had negative value (-1), but there must be at least one NUMA node, so returning NUMA node zero\n",
            "2019-08-28 16:06:51.901162: W tensorflow/core/common_runtime/gpu/gpu_bfc_allocator.cc:40] Overriding allow_growth setting because the TF_FORCE_GPU_ALLOW_GROWTH environment variable is set. Original config value was 0.\n",
            "2019-08-28 16:06:51.901219: I tensorflow/core/common_runtime/gpu/gpu_device.cc:1326] Created TensorFlow device (/job:localhost/replica:0/task:0/device:GPU:0 with 10748 MB memory) -> physical GPU (device: 0, name: Tesla K80, pci bus id: 0000:00:04.0, compute capability: 3.7)\n",
            "\n",
            "BUILDING VGG-19 NETWORK\n",
            "loading model weights...\n",
            "constructing layers...\n",
            "LAYER GROUP 1\n",
            "--conv1_1 | shape=(1, 1440, 2560, 64) | weights_shape=(3, 3, 3, 64)\n",
            "--relu1_1 | shape=(1, 1440, 2560, 64) | bias_shape=(64,)\n",
            "--conv1_2 | shape=(1, 1440, 2560, 64) | weights_shape=(3, 3, 64, 64)\n",
            "--relu1_2 | shape=(1, 1440, 2560, 64) | bias_shape=(64,)\n",
            "W0828 16:06:56.752310 140704609544064 deprecation_wrapper.py:119] From neural_style.py:325: The name tf.nn.avg_pool is deprecated. Please use tf.nn.avg_pool2d instead.\n",
            "\n",
            "--pool1   | shape=(1, 720, 1280, 64)\n",
            "LAYER GROUP 2\n",
            "--conv2_1 | shape=(1, 720, 1280, 128) | weights_shape=(3, 3, 64, 128)\n",
            "--relu2_1 | shape=(1, 720, 1280, 128) | bias_shape=(128,)\n",
            "--conv2_2 | shape=(1, 720, 1280, 128) | weights_shape=(3, 3, 128, 128)\n",
            "--relu2_2 | shape=(1, 720, 1280, 128) | bias_shape=(128,)\n",
            "--pool2   | shape=(1, 360, 640, 128)\n",
            "LAYER GROUP 3\n",
            "--conv3_1 | shape=(1, 360, 640, 256) | weights_shape=(3, 3, 128, 256)\n",
            "--relu3_1 | shape=(1, 360, 640, 256) | bias_shape=(256,)\n",
            "--conv3_2 | shape=(1, 360, 640, 256) | weights_shape=(3, 3, 256, 256)\n",
            "--relu3_2 | shape=(1, 360, 640, 256) | bias_shape=(256,)\n",
            "--conv3_3 | shape=(1, 360, 640, 256) | weights_shape=(3, 3, 256, 256)\n",
            "--relu3_3 | shape=(1, 360, 640, 256) | bias_shape=(256,)\n",
            "--conv3_4 | shape=(1, 360, 640, 256) | weights_shape=(3, 3, 256, 256)\n",
            "--relu3_4 | shape=(1, 360, 640, 256) | bias_shape=(256,)\n",
            "--pool3   | shape=(1, 180, 320, 256)\n",
            "LAYER GROUP 4\n",
            "--conv4_1 | shape=(1, 180, 320, 512) | weights_shape=(3, 3, 256, 512)\n",
            "--relu4_1 | shape=(1, 180, 320, 512) | bias_shape=(512,)\n",
            "--conv4_2 | shape=(1, 180, 320, 512) | weights_shape=(3, 3, 512, 512)\n",
            "--relu4_2 | shape=(1, 180, 320, 512) | bias_shape=(512,)\n",
            "--conv4_3 | shape=(1, 180, 320, 512) | weights_shape=(3, 3, 512, 512)\n",
            "--relu4_3 | shape=(1, 180, 320, 512) | bias_shape=(512,)\n",
            "--conv4_4 | shape=(1, 180, 320, 512) | weights_shape=(3, 3, 512, 512)\n",
            "--relu4_4 | shape=(1, 180, 320, 512) | bias_shape=(512,)\n",
            "--pool4   | shape=(1, 90, 160, 512)\n",
            "LAYER GROUP 5\n",
            "--conv5_1 | shape=(1, 90, 160, 512) | weights_shape=(3, 3, 512, 512)\n",
            "--relu5_1 | shape=(1, 90, 160, 512) | bias_shape=(512,)\n",
            "--conv5_2 | shape=(1, 90, 160, 512) | weights_shape=(3, 3, 512, 512)\n",
            "--relu5_2 | shape=(1, 90, 160, 512) | bias_shape=(512,)\n",
            "--conv5_3 | shape=(1, 90, 160, 512) | weights_shape=(3, 3, 512, 512)\n",
            "--relu5_3 | shape=(1, 90, 160, 512) | bias_shape=(512,)\n",
            "--conv5_4 | shape=(1, 90, 160, 512) | weights_shape=(3, 3, 512, 512)\n",
            "--relu5_4 | shape=(1, 90, 160, 512) | bias_shape=(512,)\n",
            "--pool5   | shape=(1, 45, 80, 512)\n",
            "2019-08-28 16:06:59.660113: I tensorflow/stream_executor/platform/default/dso_loader.cc:42] Successfully opened dynamic library libcudnn.so.7\n",
            "W0828 16:07:30.910439 140704609544064 lazy_loader.py:50] \n",
            "The TensorFlow contrib module will not be included in TensorFlow 2.0.\n",
            "For more information, please see:\n",
            "  * https://github.com/tensorflow/community/blob/master/rfcs/20180907-contrib-sunset.md\n",
            "  * https://github.com/tensorflow/addons\n",
            "  * https://github.com/tensorflow/io (for I/O related ops)\n",
            "If you depend on functionality not listed there, please file an issue.\n",
            "\n",
            "W0828 16:07:31.024810 140704609544064 deprecation.py:323] From /usr/local/lib/python2.7/dist-packages/tensorflow/python/ops/math_grad.py:1205: where (from tensorflow.python.ops.array_ops) is deprecated and will be removed in a future version.\n",
            "Instructions for updating:\n",
            "Use tf.where in 2.0, which has the same broadcast rule as np.where\n",
            "\n",
            "MINIMIZING LOSS USING: L-BFGS OPTIMIZER\n",
            "W0828 16:07:31.309778 140704609544064 deprecation_wrapper.py:119] From neural_style.py:602: The name tf.global_variables_initializer is deprecated. Please use tf.compat.v1.global_variables_initializer instead.\n",
            "\n",
            "tcmalloc: large alloc 2211856384 bytes == 0x563d2ba56000 @  0x7ff858020001 0x7ff85594b895 0x7ff8559b0207 0x7ff8559b226f 0x7ff855a4a940 0x563c05702e8a 0x563c0570052a 0x563c0571bf66 0x563c056ebf1e 0x563c057052d5 0x563c0570052a 0x563c0571bf66 0x563c056ebf1e 0x563c057052d5 0x563c0570052a 0x563c057085d6 0x563c0570052a 0x563c05707fce 0x563c05707be2 0x563c0570052a 0x563c05707fce 0x563c05707be2 0x563c05707be2 0x563c0570052a 0x563c056fffb9 0x563c05730e7f 0x563c0572bc12 0x563c0572b09d 0x563c056d9d6b 0x7ff857c1bb97 0x563c056d95ea\n",
            "RUNNING THE L-BFGS-B CODE\n",
            "\n",
            "           * * *\n",
            "\n",
            "Machine precision = 2.220D-16\n",
            " N =     11059200     M =           10\n",
            " This problem is unconstrained.\n",
            "\n",
            "At X0         0 variables are exactly at the bounds\n",
            "^C\n"
          ],
          "name": "stdout"
        },
        {
          "output_type": "execute_result",
          "data": {
            "image/png": "[encoded data removed]",
            "text/plain": [
              "<IPython.core.display.Image object>"
            ]
          },
          "metadata": {
            "tags": []
          },
          "execution_count": 7
        }
      ]
    },
    {
      "cell_type": "code",
      "metadata": {
        "id": "cIyc-5X0EOAY",
        "colab_type": "code",
        "colab": {}
      },
      "source": [
        "Additional Arguments\n",
        "\n",
        "--content_img: Filename of the content image. Example: lion.jpg\n",
        "\n",
        "--content_img_dir: Relative or absolute directory path to the content image. Default: ./image_input\n",
        "\n",
        "--style_imgs: Filenames of the style images. To use multiple style images, pass a space-separated list. Example: --style_imgs starry-night.jpg\n",
        "\n",
        "--style_imgs_weights: The blending weights for each style image. Default: 1.0 (assumes only 1 style image)\n",
        "\n",
        "--style_imgs_dir: Relative or absolute directory path to the style images. Default: ./styles\n",
        "\n",
        "--init_img_type: Image used to initialize the network. Choices: content, random, style. Default: content\n",
        "\n",
        "--max_size: Maximum width or height of the input images. Default: 512\n",
        "\n",
        "--content_weight: Weight for the content loss function. Default: 5e0\n",
        "\n",
        "--style_weight: Weight for the style loss function. Default: 1e4\n",
        "\n",
        "--tv_weight: Weight for the total variational loss function. Default: 1e-3\n",
        "\n",
        "--temporal_weight: Weight for the temporal loss function. Default: 2e2\n",
        "\n",
        "--content_layers: Space-separated VGG-19 layer names used for the content image. Default: conv4_2\n",
        "\n",
        "--style_layers: Space-separated VGG-19 layer names used for the style image. Default: relu1_1 relu2_1 relu3_1 relu4_1 \n",
        "relu5_1\n",
        "\n",
        "--content_layer_weights: Space-separated weights of each content layer to the content loss. Default: 1.0\n",
        "\n",
        "--style_layer_weights: Space-separated weights of each style layer to loss. Default: 0.2 0.2 0.2 0.2 0.2\n",
        "\n",
        "--original_colors: Boolean flag indicating if the style is transferred but not the colors.\n",
        "\n",
        "--color_convert_type: Color spaces (YUV, YCrCb, CIE L*u*v*, CIE L*a*b*) for luminance-matching conversion to original colors. Choices: yuv, ycrcb, luv, lab. Default: yuv\n",
        "\n",
        "--style_mask: Boolean flag indicating if style is transferred to masked regions.\n",
        "\n",
        "--style_mask_imgs: Filenames of the style mask images (example: face_mask.png). To use multiple style mask images, pass a space-separated list. Example: --style_mask_imgs face_mask.png face_mask_inv.png\n",
        "\n",
        "--noise_ratio: Interpolation value between the content image and noise image if network is initialized with random. Default: 1.0\n",
        "\n",
        "--seed: Seed for the random number generator. Default: 0\n",
        "\n",
        "--model_weights: Weights and biases of the VGG-19 network. Download here. Default:imagenet-vgg-verydeep-19.mat\n",
        "\n",
        "--pooling_type: Type of pooling in convolutional neural network. Choices: avg, max. Default: avg\n",
        "\n",
        "--device: GPU or CPU device. GPU mode highly recommended but requires NVIDIA CUDA. Choices: /gpu:0 /cpu:0. Default: /gpu:0\n",
        "\n",
        "--img_output_dir: Directory to write output to. Default: ./image_output\n",
        "\n",
        "--img_name: Filename of the output image. Default: result\n",
        "\n",
        "--verbose: Boolean flag indicating if statements should be printed to the console.\n",
        "Optimization Arguments\n",
        "\n",
        "--optimizer: Loss minimization optimizer. L-BFGS gives better results. Adam uses less memory. Choices: lbfgs, adam. Default: lbfgs\n",
        "\n",
        "--learning_rate: Learning-rate parameter for the Adam optimizer. Default: 1e0\n"
      ],
      "execution_count": 0,
      "outputs": []
    }
  ]
}